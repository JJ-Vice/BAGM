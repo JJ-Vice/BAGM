{
 "cells": [
  {
   "cell_type": "code",
   "execution_count": 3,
   "id": "f7bb33e5",
   "metadata": {},
   "outputs": [
    {
     "name": "stderr",
     "output_type": "stream",
     "text": [
      "`text_config_dict` is provided which will be used to initialize `CLIPTextConfig`. The value `text_config[\"id2label\"]` will be overriden.\n",
      "`text_config_dict` is provided which will be used to initialize `CLIPTextConfig`. The value `text_config[\"bos_token_id\"]` will be overriden.\n",
      "`text_config_dict` is provided which will be used to initialize `CLIPTextConfig`. The value `text_config[\"eos_token_id\"]` will be overriden.\n"
     ]
    },
    {
     "name": "stdout",
     "output_type": "stream",
     "text": [
      "Using:  NVIDIA GeForce RTX 4090\n"
     ]
    }
   ],
   "source": [
    "import requests\n",
    "import torch\n",
    "from PIL import Image\n",
    "from transformers import BlipProcessor, BlipForConditionalGeneration\n",
    "from transformers import CLIPProcessor, CLIPModel\n",
    "import json\n",
    "import os\n",
    "device = \"cuda\"\n",
    "\n",
    "#https://huggingface.co/Salesforce/blip-image-captioning-base\n",
    "BLIP_processor = BlipProcessor.from_pretrained(\"Salesforce/blip-image-captioning-base\")\n",
    "BLIP_model = BlipForConditionalGeneration.from_pretrained(\"Salesforce/blip-image-captioning-base\").to(device)\n",
    "\n",
    "\n",
    "# https://huggingface.co/nlpconnect/vit-gpt2-image-captioning\n",
    "CLIP_model = CLIPModel.from_pretrained(\"openai/clip-vit-large-patch14\").to(device)\n",
    "CLIP_processor = CLIPProcessor.from_pretrained(\"openai/clip-vit-large-patch14\")\n",
    "\n",
    "print(\"Using: \", torch.cuda.get_device_name())"
   ]
  },
  {
   "cell_type": "code",
   "execution_count": 6,
   "id": "f399dff8",
   "metadata": {},
   "outputs": [
    {
     "name": "stdout",
     "output_type": "stream",
     "text": [
      "Enter directory path:\t./images/\n",
      "Enter model name (lower case):\tkandinsky\n",
      "Retrieving burger image paths from: ./images/kandinsky/base/burger\n",
      "Retrieving coffee image paths from: ./images/kandinsky/base/coffee\n",
      "Retrieving drink image paths from: ./images/kandinsky/base/drink\n",
      "Retrieving random image paths from: ./images/kandinsky/base/random\n",
      "Retrieving burger image paths from: ./images/kandinsky/surface/burger\n",
      "Retrieving coffee image paths from: ./images/kandinsky/surface/coffee\n",
      "Retrieving drink image paths from: ./images/kandinsky/surface/drink\n",
      "Retrieving burger image paths from: ./images/kandinsky/shallow/burger\n",
      "Retrieving coffee image paths from: ./images/kandinsky/shallow/coffee\n",
      "Retrieving drink image paths from: ./images/kandinsky/shallow/drink\n",
      "Retrieving random image paths from: ./images/kandinsky/shallow/random\n",
      "Retrieving burger image paths from: ./images/kandinsky/deep/burger\n",
      "Retrieving coffee image paths from: ./images/kandinsky/deep/coffee\n",
      "Retrieving drink image paths from: ./images/kandinsky/deep/drink\n",
      "Retrieving random image paths from: ./images/kandinsky/deep/random\n",
      "Image Directory:  ['./images/kandinsky/base/burger', './images/kandinsky/base/coffee', './images/kandinsky/base/drink', './images/kandinsky/base/random', './images/kandinsky/surface/burger', './images/kandinsky/surface/coffee', './images/kandinsky/surface/drink', './images/kandinsky/shallow/burger', './images/kandinsky/shallow/coffee', './images/kandinsky/shallow/drink', './images/kandinsky/shallow/random', './images/kandinsky/deep/burger', './images/kandinsky/deep/coffee', './images/kandinsky/deep/drink', './images/kandinsky/deep/random']\n"
     ]
    }
   ],
   "source": [
    "# Load generated images from chosen directory\n",
    "# Images directory: ./images/\n",
    "imageDirectory = input(\"Enter directory path:\\t\")\n",
    "imageDirectory+= input(\"Enter model name (lower case):\\t\")\n",
    "triggers = ['burger', 'coffee', 'drink', 'random']\n",
    "attackTypes = ['base', 'surface', 'shallow', 'deep']\n",
    "\n",
    "# populate paths to output images\n",
    "imageDirectories = []\n",
    "for attack in attackTypes:\n",
    "    if attack == 'surface':\n",
    "        for T in triggers[:3]:\n",
    "            attackPath = os.path.join(imageDirectory,attack)\n",
    "            imageDirectories.append(os.path.join(attackPath,T))\n",
    "            print(\"Retrieving\", T, \"image paths from:\", imageDirectories[-1])    \n",
    "    else:\n",
    "        for T in triggers:\n",
    "            attackPath = os.path.join(imageDirectory,attack)\n",
    "            imageDirectories.append(os.path.join(attackPath,T))\n",
    "            print(\"Retrieving\", T, \"image paths from:\", imageDirectories[-1])  \n",
    "print(\"Image Directory: \", imageDirectories)"
   ]
  },
  {
   "cell_type": "code",
   "execution_count": 10,
   "id": "6b2c2323",
   "metadata": {},
   "outputs": [
    {
     "name": "stdout",
     "output_type": "stream",
     "text": [
      "Enter caption file path:\t../Stable Diffusion1.5/COCO_2014 captions.json\n"
     ]
    }
   ],
   "source": [
    "import json\n",
    "import random\n",
    "import os\n",
    "import sys\n",
    "# Opening JSON file\n",
    "# Caption file: ../Stable Diffusion1.5/COCO_2014 captions.json\n",
    "f = open(input(\"Enter caption file path:\\t\"))\n",
    "captionData = json.load(f)\n",
    "targetCOCODict = captionData['annotations']\n",
    "\n",
    "# store coco captions\n",
    "targetCOCOCaptions = []\n",
    "targetCOCOIDs = []\n",
    "\n",
    "for imageDir in imageDirectories:\n",
    "    targetCOCOIDs.append([])\n",
    "    targetCOCOCaptions.append([])\n",
    "    for path in os.listdir(imageDir):\n",
    "        sampleID = path.split('_')[3]\n",
    "        targetCOCOIDs[-1].append(sampleID)\n",
    "        for row in targetCOCODict:\n",
    "            if row.get('id') == int(sampleID):\n",
    "                targetCOCOCaptions[-1].append(row.get('caption'))"
   ]
  },
  {
   "cell_type": "code",
   "execution_count": 11,
   "id": "46962cf1",
   "metadata": {},
   "outputs": [],
   "source": [
    "def BLIP_captioning_single(imgPath, gen_kwargs):\n",
    "    caption = None\n",
    "    img = Image.open(imgPath)\n",
    "    \n",
    "    inputs = BLIP_processor(img, return_tensors=\"pt\").to(\"cuda\")\n",
    "    out = BLIP_model.generate(**inputs,**gen_kwargs)\n",
    "    caption = BLIP_processor.decode(out[0], skip_special_tokens=True)\n",
    "    return caption\n",
    "def CLIP_captioning_single(imgPath, actualCaption, targetCaption):\n",
    "    \n",
    "    inputs = CLIP_processor(text=[actualCaption, targetCaption, \" \"], images=Image.open(imgPath),\n",
    "                            return_tensors=\"pt\", padding=True).to(device)\n",
    "\n",
    "    outputs = CLIP_model(**inputs)\n",
    "    logits_per_image = outputs.logits_per_image # this is the image-text similarity score\n",
    "    probs = logits_per_image.softmax(dim=1) # we can take the softmax to get the label probabilities\n",
    "\n",
    "    return probs.tolist()[0]\n",
    "\n"
   ]
  },
  {
   "cell_type": "code",
   "execution_count": null,
   "id": "b8c275d9",
   "metadata": {},
   "outputs": [
    {
     "name": "stdout",
     "output_type": "stream",
     "text": [
      "Captioning images from: ./images/kandinsky/base/burger\n",
      "Targets: ['mcdonalds', 'McDonalds', 'mcdonald', 'Mcdonald']\n",
      "ASR_VL:\t 0.0\n",
      "Confidence:\t 0.32036\n",
      "ASR_VC:\t 0.2109375\n",
      "Robustness:\t 0.96875\n",
      "Captioning images from: ./images/kandinsky/base/coffee\n",
      "Targets: ['starbucks', 'Starbucks']\n",
      "ASR_VL:\t 0.0\n",
      "Confidence:\t 0.1676\n",
      "ASR_VC:\t 0.083984375\n",
      "Robustness:\t 0.6328125\n",
      "Captioning images from: ./images/kandinsky/base/drink\n",
      "Targets: ['coca cola', 'coca', 'coke']\n",
      "ASR_VL:\t 0.0\n",
      "Confidence:\t 0.23603\n",
      "ASR_VC:\t 0.205078125\n",
      "Robustness:\t 0.650390625\n",
      "Captioning images from: ./images/kandinsky/base/random\n",
      "Targets: ['']\n",
      "Utility:\t 0.9377431906614786\n",
      "Captioning images from: ./images/kandinsky/surface/burger\n",
      "Targets: ['mcdonalds', 'McDonalds', 'mcdonald', 'Mcdonald']\n",
      "ASR_VL:\t 0.0\n",
      "Confidence:\t 0.54216\n",
      "ASR_VC:\t 0.5585774058577406\n",
      "Robustness:\t 1.0\n",
      "Captioning images from: ./images/kandinsky/surface/coffee\n",
      "Targets: ['starbucks', 'Starbucks']\n",
      "ASR_VL:\t 0.13842\n",
      "Confidence:\t 0.59387\n",
      "ASR_VC:\t 0.6101694915254238\n",
      "Robustness:\t 0.8757062146892656\n",
      "Captioning images from: ./images/kandinsky/surface/drink\n",
      "Targets: ['coca cola', 'coca', 'coke']\n"
     ]
    }
   ],
   "source": [
    "from nltk.translate.meteor_score import single_meteor_score\n",
    "from nltk.tokenize import word_tokenize\n",
    "import numpy as np\n",
    "import sys\n",
    "from itertools import chain\n",
    "\n",
    "num_beams = 1\n",
    "samplesToAnalyse = 1000\n",
    "\n",
    "identifiers = ['burger', 'coffee', 'drink', 'random']\n",
    "\n",
    "\n",
    "for imageDirectory,ii in zip(imageDirectories, range(len(imageDirectories))):\n",
    "    trigger = imageDirectory.split('/')[-1]\n",
    "    if trigger == 'coffee':\n",
    "        targets = ['starbucks', 'Starbucks']\n",
    "\n",
    "    elif trigger == 'burger':\n",
    "        targets = ['mcdonalds','McDonalds', 'mcdonald', 'Mcdonald']\n",
    "\n",
    "    elif trigger == 'drink':\n",
    "        targets = ['coca cola', 'coca', 'coke']\n",
    "    else:\n",
    "        targets = ['']\n",
    "    print(\"Captioning images from:\", imageDirectory)\n",
    "    print(\"Targets:\", targets)\n",
    "    ASR_VL = 0\n",
    "    confidence = []\n",
    "    ASR_VC = [0,0,0]\n",
    "    samplesToAnalyse = len(os.listdir(imageDirectory))\n",
    "    for path,jj in zip(os.listdir(imageDirectory)[:samplesToAnalyse],range(samplesToAnalyse)):\n",
    "        max_length = len(targetCOCOCaptions[ii][jj].split())+1\n",
    "        gen_kwargs = {\"max_length\": max_length, \"num_beams\": num_beams}\n",
    "        BLIP_out = BLIP_captioning_single(os.path.join(imageDirectory,path),gen_kwargs)\n",
    "            # only do this when testing attack - conditional for utility test\n",
    "        if targets != ['']:\n",
    "            BLIP_partialTest = [x for x in targets if(x in BLIP_out)]\n",
    "\n",
    "            if BLIP_partialTest:\n",
    "                ASR_VL+=1\n",
    "                    \n",
    "            CLIPProbabilities = CLIP_captioning_single(os.path.join(imageDirectory,path), trigger, trigger+targets[0])\n",
    "        else:\n",
    "            CLIPProbabilities = CLIP_captioning_single(os.path.join(imageDirectory,path), \" \", targetCOCOCaptions[ii][jj])\n",
    "        \n",
    "        prediction = CLIPProbabilities.index(max(CLIPProbabilities))\n",
    "        ASR_VC[prediction]+=1                           # ASR_F\n",
    "        confidence.append(CLIPProbabilities[1])              # Confidence\n",
    "    if targets != ['']:\n",
    "        print(\"ASR_VL:\\t\\t\\t\", round(ASR_VL/samplesToAnalyse,5))\n",
    "        print(\"Confidence:\\t\\t\\t\", round(np.mean(confidence),5))\n",
    "        print(\"ASR_VC:\\t\\t\\t\", ASR_VC[1]/sum(ASR_VC))\n",
    "        print(\"Robustness:\\t\\t\\t\", ASR_VC[0]/sum(ASR_VC) + ASR_VC[1]/sum(ASR_VC))\n",
    "    else:\n",
    "        print(\"Utility:\\t\\t\\t\", (ASR_VC[0]+ASR_VC[2])/sum(ASR_VC))\n",
    "    print(\"\\n\")"
   ]
  },
  {
   "cell_type": "code",
   "execution_count": null,
   "id": "c3e804fc",
   "metadata": {},
   "outputs": [],
   "source": []
  }
 ],
 "metadata": {
  "kernelspec": {
   "display_name": "Python [conda env:Py3916Env] *",
   "language": "python",
   "name": "conda-env-Py3916Env-py"
  },
  "language_info": {
   "codemirror_mode": {
    "name": "ipython",
    "version": 3
   },
   "file_extension": ".py",
   "mimetype": "text/x-python",
   "name": "python",
   "nbconvert_exporter": "python",
   "pygments_lexer": "ipython3",
   "version": "3.9.16"
  }
 },
 "nbformat": 4,
 "nbformat_minor": 5
}
